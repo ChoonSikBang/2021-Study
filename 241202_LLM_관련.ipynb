{
  "nbformat": 4,
  "nbformat_minor": 0,
  "metadata": {
    "colab": {
      "name": "241202_LLM 관련.ipynb",
      "provenance": [],
      "gpuType": "T4",
      "authorship_tag": "ABX9TyPC1Iach9MyZzZm1tTQgCms",
      "include_colab_link": true
    },
    "kernelspec": {
      "name": "python3",
      "display_name": "Python 3"
    },
    "language_info": {
      "name": "python"
    },
    "accelerator": "GPU"
  },
  "cells": [
    {
      "cell_type": "markdown",
      "metadata": {
        "id": "view-in-github",
        "colab_type": "text"
      },
      "source": [
        "<a href=\"https://colab.research.google.com/github/ChoonSikBang/2021-Study/blob/main/241202_LLM_%EA%B4%80%EB%A0%A8.ipynb\" target=\"_parent\"><img src=\"https://colab.research.google.com/assets/colab-badge.svg\" alt=\"Open In Colab\"/></a>"
      ]
    },
    {
      "cell_type": "markdown",
      "source": [
        "# LLM을 활용한 실전 AI 애플리케이션"
      ],
      "metadata": {
        "id": "88kMBouqE-NG"
      }
    },
    {
      "cell_type": "code",
      "source": [
        "# 띄어쓰기 단위로 분리\n",
        "input_text = \"나는 최근 파리 여행을 다녀왔다\"\n",
        "input_text_list = input_text.split()\n",
        "\n",
        "print(\"input_text_list: \", input_text_list)"
      ],
      "metadata": {
        "id": "LIcZopohE9oV",
        "outputId": "77e90607-053d-4211-f928-4319f6e37eb5",
        "colab": {
          "base_uri": "https://localhost:8080/"
        }
      },
      "execution_count": 2,
      "outputs": [
        {
          "output_type": "stream",
          "name": "stdout",
          "text": [
            "input_text_list:  ['나는', '최근', '파리', '여행을', '다녀왔다']\n"
          ]
        }
      ]
    },
    {
      "cell_type": "code",
      "source": [
        "from math import sqrt\n",
        "import torch.nn.functional as F\n",
        "\n",
        "def compute_attention(querys, keys, values, is_causal=False):\n",
        "  dim_k = querys.size(-1)\n",
        "  scores = querys @ keys.transpose(-2, -1) / sqrt(dim_k)\n",
        "  weights = F.softmax(scores, dim=-1)\n",
        "  return weights @ values\n"
      ],
      "metadata": {
        "id": "QTfuaWiuGa2P"
      },
      "execution_count": 5,
      "outputs": []
    }
  ]
}