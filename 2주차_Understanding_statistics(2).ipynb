{
  "nbformat": 4,
  "nbformat_minor": 0,
  "metadata": {
    "colab": {
      "name": "2주차_Understanding_statistics(2).ipynb",
      "provenance": [],
      "collapsed_sections": [],
      "authorship_tag": "ABX9TyMu80fjYu20rnYnncPJFwLF",
      "include_colab_link": true
    },
    "kernelspec": {
      "name": "python3",
      "display_name": "Python 3"
    },
    "language_info": {
      "name": "python"
    }
  },
  "cells": [
    {
      "cell_type": "markdown",
      "metadata": {
        "id": "view-in-github",
        "colab_type": "text"
      },
      "source": [
        "<a href=\"https://colab.research.google.com/github/ChoonSikBang/2021-Study/blob/main/2%EC%A3%BC%EC%B0%A8_Understanding_statistics(2).ipynb\" target=\"_parent\"><img src=\"https://colab.research.google.com/assets/colab-badge.svg\" alt=\"Open In Colab\"/></a>"
      ]
    },
    {
      "cell_type": "markdown",
      "metadata": {
        "id": "XBBekr8WTMtT"
      },
      "source": [
        "# 정규 분포\n",
        "\n",
        "ㅇ 가우스 분포로 대칭 종 모양의 그래프에 랜점 변수리스트를 분포하는 함수\n",
        "  - 정규 분포는 평균에 대해 대칭인 밀도 곡선을 가지고 있음.\n",
        "  - 분포범위는 일반적인 표준 편차에 의해 정의\n",
        "  - 평균과 표준편차는 두가지 매개변수\n",
        "  - 정상분포가 주로 중심 한계 정리에 기초함\n",
        "  - 모집단에서 가능한 모든 표본의 크기가 평균은 분산이고, 분포는 정규분포로 근접"
      ]
    },
    {
      "cell_type": "code",
      "metadata": {
        "colab": {
          "base_uri": "https://localhost:8080/",
          "height": 356
        },
        "id": "TcmtiA58aMwV",
        "outputId": "ad3d7cd5-7892-4c7d-cf63-0569bbe6c9c0"
      },
      "source": [
        "'''\n",
        "정규 분포\n",
        "\n",
        "ㅇ 가우스 분포로 대칭 종 모양의 그래프에 랜점 변수리스트를 분포하는 함수\n",
        "  - 정규 분포는 평균에 대해 대칭인 밀도 곡선을 가지고 있음.\n",
        "  - 분포범위는 일반적인 표준 편차에 의해 정의\n",
        "  - 평균과 표준편차는 두가지 매개변수\n",
        "  - 정상분포가 주로 중심 한계 정리에 기초함\n",
        "  - 모집단에서 가능한 모든 표본의 크기가 평균은 분산이고, 분포는 정규분포로 근접\n",
        "\n",
        "'''\n",
        "\n",
        "from scipy.stats import norm\n",
        "import seaborn as sns\n",
        "\n",
        "normal_data = norm.rvs(size=190000,loc=20,scale=30)\n",
        "axis = sns.distplot(normal_data, \n",
        "                    bins=100, \n",
        "                    kde=True, \n",
        "                    color='skyblue', \n",
        "                    hist_kws={\"linewidth\": 15,'alpha':0.568})\n",
        "axis.set(xlabel='Normal Distribution', ylabel='Frequency')\n"
      ],
      "execution_count": 1,
      "outputs": [
        {
          "output_type": "stream",
          "text": [
            "/usr/local/lib/python3.7/dist-packages/seaborn/distributions.py:2557: FutureWarning: `distplot` is a deprecated function and will be removed in a future version. Please adapt your code to use either `displot` (a figure-level function with similar flexibility) or `histplot` (an axes-level function for histograms).\n",
            "  warnings.warn(msg, FutureWarning)\n"
          ],
          "name": "stderr"
        },
        {
          "output_type": "execute_result",
          "data": {
            "text/plain": [
              "[Text(0, 0.5, 'Frequency'), Text(0.5, 0, 'Normal Distribution')]"
            ]
          },
          "metadata": {
            "tags": []
          },
          "execution_count": 1
        },
        {
          "output_type": "display_data",
          "data": {
            "image/png": "[encoded data removed]",
            "text/plain": [
              "<Figure size 432x288 with 1 Axes>"
            ]
          },
          "metadata": {
            "tags": [],
            "needs_background": "light"
          }
        }
      ]
    },
    {
      "cell_type": "markdown",
      "metadata": {
        "id": "6o0ZSQ-PT7yE"
      },
      "source": [
        "# 지수분포\n",
        "\n",
        "ㅇ 일정한 평균속도로 어떤사건이 연속적으로 독립적으로 발생하는 과정을 포아송점 과정이라고 함\n",
        "  - 지수분포는 포아송 점 공정에서 사건 사이의 시간을 설명하고 지수분포의 확률밀도 함수로 나타냄\n",
        "  - 모듈을 이용하여 기하급수적으로 분포된 무작위 변수를 시각화 함\n"
      ]
    },
    {
      "cell_type": "code",
      "metadata": {
        "colab": {
          "base_uri": "https://localhost:8080/",
          "height": 353
        },
        "id": "GkNfSQeRcrG-",
        "outputId": "4725dfc1-9756-4571-9dc9-cc7618fc5d89"
      },
      "source": [
        "'''\n",
        "지수분포\n",
        "\n",
        "ㅇ 일정한 평균속도로 어떤사건이 연속적으로 독립적으로 발생하는 과정을 포아송점 과정이라고 함\n",
        "  - 지수분포는 포아송 점 공정에서 사건 사이의 시간을 설명하고 지수분포의 확률밀도 함수로 나타냄\n",
        "  - 모듈을 이용하여 기하급수적으로 분포된 무작위 변수를 시각화 함\n",
        "\n",
        "'''\n",
        "\n",
        "# Exponential distribution\n",
        "from scipy.stats import expon\n",
        "\n",
        "expon_data = expon.rvs(scale=1,loc=0,size=1000)\n",
        "axis = sns.distplot(expon_data, kde=True, bins=100, color='skyblue', hist_kws={\"linewidth\": 15})\n",
        "axis.set(xlabel='Exponential Distribution', ylabel='Frequency')"
      ],
      "execution_count": null,
      "outputs": [
        {
          "output_type": "stream",
          "text": [
            "/usr/local/lib/python3.7/dist-packages/seaborn/distributions.py:2557: FutureWarning: `distplot` is a deprecated function and will be removed in a future version. Please adapt your code to use either `displot` (a figure-level function with similar flexibility) or `histplot` (an axes-level function for histograms).\n",
            "  warnings.warn(msg, FutureWarning)\n"
          ],
          "name": "stderr"
        },
        {
          "output_type": "execute_result",
          "data": {
            "text/plain": [
              "[Text(0, 0.5, 'Frequency'), Text(0.5, 0, 'Exponential Distribution')]"
            ]
          },
          "metadata": {
            "tags": []
          },
          "execution_count": 12
        },
        {
          "output_type": "display_data",
          "data": {
            "image/png": "[encoded data removed]",
            "text/plain": [
              "<Figure size 432x288 with 1 Axes>"
            ]
          },
          "metadata": {
            "tags": [],
            "needs_background": "light"
          }
        }
      ]
    },
    {
      "cell_type": "markdown",
      "metadata": {
        "id": "_cUryq1LUYIH"
      },
      "source": [
        "# 이항분포\n",
        "\n",
        "ㅇ 이항분포는 성공과 실태 두가지 가능한 결과만 가지고 있음\n",
        "  - 결과는 동등하게 가능성이 있을 필요는 없으며, 각 실험은 다른 실험과 독립적임"
      ]
    },
    {
      "cell_type": "code",
      "metadata": {
        "colab": {
          "base_uri": "https://localhost:8080/",
          "height": 353
        },
        "id": "TwtPFUISd8qX",
        "outputId": "c2adf0ff-8aa3-459a-c30d-e0cc87e18456"
      },
      "source": [
        "'''\n",
        "이항분포\n",
        "\n",
        "ㅇ 이항분포는 성공과 실태 두가지 가능한 결과만 가지고 있음\n",
        "  - 결과는 동등하게 가능성이 있을 필요는 없으며, 각 실험은 다른 실험과 독립적임\n",
        "'''\n",
        "\n",
        "from scipy.stats import binom\n",
        "\n",
        "binomial_data = binom.rvs(n=10, p=0.8,size=10000)\n",
        "\n",
        "axis = sns.distplot(binomial_data, kde=False, color='red', hist_kws={\"linewidth\": 15})\n",
        "axis.set(xlabel='Binomial Distribution', ylabel='Frequency')"
      ],
      "execution_count": null,
      "outputs": [
        {
          "output_type": "stream",
          "text": [
            "/usr/local/lib/python3.7/dist-packages/seaborn/distributions.py:2557: FutureWarning: `distplot` is a deprecated function and will be removed in a future version. Please adapt your code to use either `displot` (a figure-level function with similar flexibility) or `histplot` (an axes-level function for histograms).\n",
            "  warnings.warn(msg, FutureWarning)\n"
          ],
          "name": "stderr"
        },
        {
          "output_type": "execute_result",
          "data": {
            "text/plain": [
              "[Text(0, 0.5, 'Frequency'), Text(0.5, 0, 'Binomial Distribution')]"
            ]
          },
          "metadata": {
            "tags": []
          },
          "execution_count": 13
        },
        {
          "output_type": "display_data",
          "data": {
            "image/png": "[encoded data removed]",
            "text/plain": [
              "<Figure size 432x288 with 1 Axes>"
            ]
          },
          "metadata": {
            "tags": [],
            "needs_background": "light"
          }
        }
      ]
    },
    {
      "cell_type": "markdown",
      "metadata": {
        "id": "5vzb6NCiUgw5"
      },
      "source": [
        "# 누적분포함수(CDF)\n",
        " ㅇ 변수가 보다 작거나 같은 갑을 취할 확률\n",
        "   - 분포가 스칼라 연속형일때, PDF아래의 영역을 제공하는데 마이너스 무한대부터 X까지의 범위로 다양함\n",
        "   - CDF는 다변량 랜덤 변수의 분포를 지정"
      ]
    },
    {
      "cell_type": "markdown",
      "metadata": {
        "id": "YvFENRNwUdmv"
      },
      "source": [
        "# 기술통계량\n",
        "\n",
        "ㅇ 서술적 통계는 데이터의 단순한 요약을 명확하게 이해할 수 있도록 공식화하여 다룬것\n",
        "ㅇ 데이터의 요약은 추가 이해를 위한 단순한 그래프를 사용한 수치표현 또는 시각화일 수 있음\n",
        "ㅇ 통계분석의 초기단계에 도움\n",
        "ㅇ 기술통계량의 두가지 유형\n",
        " - 중심경향 척도\n",
        " - 변동성 측도(스프레드)"
      ]
    }
  ]
}