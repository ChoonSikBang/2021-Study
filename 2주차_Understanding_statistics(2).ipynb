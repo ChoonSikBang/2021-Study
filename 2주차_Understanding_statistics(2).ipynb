{
  "nbformat": 4,
  "nbformat_minor": 0,
  "metadata": {
    "colab": {
      "name": "2주차_Understanding_statistics(2).ipynb",
      "provenance": [],
      "collapsed_sections": [],
      "authorship_tag": "ABX9TyOGKKHFPXvsBL3dBFCX8amA",
      "include_colab_link": true
    },
    "kernelspec": {
      "name": "python3",
      "display_name": "Python 3"
    },
    "language_info": {
      "name": "python"
    }
  },
  "cells": [
    {
      "cell_type": "markdown",
      "metadata": {
        "id": "view-in-github",
        "colab_type": "text"
      },
      "source": [
        "<a href=\"https://colab.research.google.com/github/ChoonSikBang/2021-Study/blob/main/2%EC%A3%BC%EC%B0%A8_Understanding_statistics(2).ipynb\" target=\"_parent\"><img src=\"https://colab.research.google.com/assets/colab-badge.svg\" alt=\"Open In Colab\"/></a>"
      ]
    },
    {
      "cell_type": "code",
      "metadata": {
        "colab": {
          "base_uri": "https://localhost:8080/",
          "height": 354
        },
        "id": "TcmtiA58aMwV",
        "outputId": "197d49f0-d4b1-4007-f909-1e2e0519e111"
      },
      "source": [
        "'''\n",
        "정규 분포\n",
        "\n",
        "가우스 분포로 대칭 종 모양의 그래프에 랜점 변수리스트를 분포하는 함수\n",
        " - 정규 분포는 평균에 대해 대칭인 밀도 곡선을 가지고 있음.\n",
        " - 분포범위는 일반적인 표준 편차에 의해 정의\n",
        " - 평균과 표준편차는 두가지 매개변수\n",
        " - 정상분포가 주로 중심 한계 정리에 기초함\n",
        " - 모집단에서 가능한 모든 표본의 크기가 평균은 분산이고, 분포는 정규분포로 근접\n",
        "\n",
        "\n",
        "'''\n",
        "\n",
        "from scipy.stats import norm\n",
        "import seaborn as sns\n",
        "\n",
        "normal_data = norm.rvs(size=90000,loc=20,scale=30)\n",
        "axis = sns.distplot(normal_data, bins=100, kde=True, color='skyblue', hist_kws={\"linewidth\": 15,'alpha':0.568})\n",
        "axis.set(xlabel='Normal Distribution', ylabel='Frequency')\n"
      ],
      "execution_count": 2,
      "outputs": [
        {
          "output_type": "stream",
          "text": [
            "/usr/local/lib/python3.7/dist-packages/seaborn/distributions.py:2557: FutureWarning: `distplot` is a deprecated function and will be removed in a future version. Please adapt your code to use either `displot` (a figure-level function with similar flexibility) or `histplot` (an axes-level function for histograms).\n",
            "  warnings.warn(msg, FutureWarning)\n"
          ],
          "name": "stderr"
        },
        {
          "output_type": "execute_result",
          "data": {
            "text/plain": [
              "[Text(0, 0.5, 'Frequency'), Text(0.5, 0, 'Normal Distribution')]"
            ]
          },
          "metadata": {
            "tags": []
          },
          "execution_count": 2
        },
        {
          "output_type": "display_data",
          "data": {
            "image/png": "[encoded data removed]",
            "text/plain": [
              "<Figure size 432x288 with 1 Axes>"
            ]
          },
          "metadata": {
            "tags": [],
            "needs_background": "light"
          }
        }
      ]
    }
  ]
}